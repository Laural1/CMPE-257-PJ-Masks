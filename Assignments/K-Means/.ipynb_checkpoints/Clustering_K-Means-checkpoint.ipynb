{
 "cells": [
  {
   "cell_type": "markdown",
   "metadata": {},
   "source": [
    "# CMPE 257 Clustering K-Means"
   ]
  },
  {
   "cell_type": "markdown",
   "metadata": {},
   "source": [
    "## Kevin Lai, 008498282"
   ]
  },
  {
   "cell_type": "markdown",
   "metadata": {},
   "source": [
    "### Business Objective"
   ]
  },
  {
   "cell_type": "markdown",
   "metadata": {},
   "source": [
    "Our objective is to determine the primary leading factors that cause wildfires."
   ]
  },
  {
   "cell_type": "markdown",
   "metadata": {},
   "source": [
    "### Background"
   ]
  },
  {
   "cell_type": "markdown",
   "metadata": {},
   "source": [
    "According to the US deparment of Homeland Security, \"**a wildfire is an unplanned fire that burns in a natural area such as a forest, grassland, or prarie**\" (https://www.ready.gov/wildfires). Wildfires are environmental hazard that can cause significant damages to both humans and the environment. Large wildfires can destroy hundreds to thousands of homes and can cause severe to life-threating injuries or even death to many people and animals."
   ]
  },
  {
   "cell_type": "markdown",
   "metadata": {},
   "source": [
    "### Datasets"
   ]
  },
  {
   "cell_type": "markdown",
   "metadata": {},
   "source": [
    "https://www.kaggle.com/rtatman/188-million-us-wildfires/home"
   ]
  },
  {
   "cell_type": "markdown",
   "metadata": {},
   "source": [
    "### Python Code"
   ]
  },
  {
   "cell_type": "code",
   "execution_count": 1,
   "metadata": {
    "collapsed": false
   },
   "outputs": [],
   "source": [
    "%matplotlib inline\n",
    "import sqlite3\n",
    "import pandas as pd\n",
    "import matplotlib.pyplot as plt\n",
    "import numpy as np"
   ]
  },
  {
   "cell_type": "markdown",
   "metadata": {},
   "source": [
    "Load the **\"US Wildfires\"** SQL Database"
   ]
  },
  {
   "cell_type": "code",
   "execution_count": 2,
   "metadata": {
    "collapsed": false
   },
   "outputs": [],
   "source": [
    "sql_db = sqlite3.connect('FPA_FOD_20170508.sqlite')"
   ]
  },
  {
   "cell_type": "markdown",
   "metadata": {},
   "source": [
    "Check the data inside the database."
   ]
  },
  {
   "cell_type": "code",
   "execution_count": 3,
   "metadata": {
    "collapsed": false
   },
   "outputs": [
    {
     "name": "stdout",
     "output_type": "stream",
     "text": [
      "                                  name\n",
      "0                      spatial_ref_sys\n",
      "1                   spatialite_history\n",
      "2                      sqlite_sequence\n",
      "3                     geometry_columns\n",
      "4                  spatial_ref_sys_aux\n",
      "5               views_geometry_columns\n",
      "6               virts_geometry_columns\n",
      "7          geometry_columns_statistics\n",
      "8    views_geometry_columns_statistics\n",
      "9    virts_geometry_columns_statistics\n",
      "10        geometry_columns_field_infos\n",
      "11  views_geometry_columns_field_infos\n",
      "12  virts_geometry_columns_field_infos\n",
      "13               geometry_columns_time\n",
      "14               geometry_columns_auth\n",
      "15         views_geometry_columns_auth\n",
      "16         virts_geometry_columns_auth\n",
      "17                  sql_statements_log\n",
      "18                        SpatialIndex\n",
      "19                ElementaryGeometries\n",
      "20                                 KNN\n",
      "21                               Fires\n",
      "22                     idx_Fires_Shape\n",
      "23                idx_Fires_Shape_node\n",
      "24               idx_Fires_Shape_rowid\n",
      "25              idx_Fires_Shape_parent\n",
      "26          NWCG_UnitIDActive_20170109\n"
     ]
    }
   ],
   "source": [
    "sql_data = pd.read_sql_query(\"SELECT name FROM sqlite_master WHERE type='table';\", sql_db)\n",
    "print(sql_data)"
   ]
  },
  {
   "cell_type": "markdown",
   "metadata": {},
   "source": [
    "Based on the tables found, the \"**Fires**\" table looks promising."
   ]
  },
  {
   "cell_type": "markdown",
   "metadata": {},
   "source": [
    "Look in **FIRES** tables to select attributes to focus on."
   ]
  },
  {
   "cell_type": "code",
   "execution_count": 4,
   "metadata": {
    "collapsed": false
   },
   "outputs": [
    {
     "name": "stdout",
     "output_type": "stream",
     "text": [
      "    cid                        name       type  notnull dflt_value  pk\n",
      "0     0                    OBJECTID    integer        1       None   1\n",
      "1     1                      FOD_ID      int32        0       None   0\n",
      "2     2                      FPA_ID  text(100)        0       None   0\n",
      "3     3          SOURCE_SYSTEM_TYPE  text(255)        0       None   0\n",
      "4     4               SOURCE_SYSTEM   text(30)        0       None   0\n",
      "5     5       NWCG_REPORTING_AGENCY  text(255)        0       None   0\n",
      "6     6      NWCG_REPORTING_UNIT_ID  text(255)        0       None   0\n",
      "7     7    NWCG_REPORTING_UNIT_NAME  text(255)        0       None   0\n",
      "8     8       SOURCE_REPORTING_UNIT   text(30)        0       None   0\n",
      "9     9  SOURCE_REPORTING_UNIT_NAME  text(255)        0       None   0\n",
      "10   10        LOCAL_FIRE_REPORT_ID  text(255)        0       None   0\n",
      "11   11           LOCAL_INCIDENT_ID  text(255)        0       None   0\n",
      "12   12                   FIRE_CODE   text(10)        0       None   0\n",
      "13   13                   FIRE_NAME  text(255)        0       None   0\n",
      "14   14     ICS_209_INCIDENT_NUMBER  text(255)        0       None   0\n",
      "15   15                ICS_209_NAME  text(255)        0       None   0\n",
      "16   16                     MTBS_ID  text(255)        0       None   0\n",
      "17   17              MTBS_FIRE_NAME   text(50)        0       None   0\n",
      "18   18                COMPLEX_NAME  text(255)        0       None   0\n",
      "19   19                   FIRE_YEAR      int16        0       None   0\n",
      "20   20              DISCOVERY_DATE   realdate        0       None   0\n",
      "21   21               DISCOVERY_DOY      int32        0       None   0\n",
      "22   22              DISCOVERY_TIME    text(4)        0       None   0\n",
      "23   23             STAT_CAUSE_CODE    float64        0       None   0\n",
      "24   24            STAT_CAUSE_DESCR  text(100)        0       None   0\n",
      "25   25                   CONT_DATE   realdate        0       None   0\n",
      "26   26                    CONT_DOY      int32        0       None   0\n",
      "27   27                   CONT_TIME    text(4)        0       None   0\n",
      "28   28                   FIRE_SIZE    float64        0       None   0\n",
      "29   29             FIRE_SIZE_CLASS    text(1)        0       None   0\n",
      "30   30                    LATITUDE    float64        0       None   0\n",
      "31   31                   LONGITUDE    float64        0       None   0\n",
      "32   32                  OWNER_CODE    float64        0       None   0\n",
      "33   33                 OWNER_DESCR  text(100)        0       None   0\n",
      "34   34                       STATE  text(255)        0       None   0\n",
      "35   35                      COUNTY  text(255)        0       None   0\n",
      "36   36                   FIPS_CODE  text(255)        0       None   0\n",
      "37   37                   FIPS_NAME  text(255)        0       None   0\n",
      "38   38                       Shape      POINT        1       None   0\n"
     ]
    }
   ],
   "source": [
    "sql_data = pd.read_sql_query(\"PRAGMA table_info('Fires')\", sql_db)\n",
    "print(sql_data)"
   ]
  },
  {
   "cell_type": "markdown",
   "metadata": {},
   "source": [
    "Based on the all of the attributes found in the FIRES table, the attributes that appear to be the most relevant to our topic are the following:\n",
    "- time **(FIRE_YEAR, DISCOVERY_DATE)**,\n",
    "- location **(LATITUDE, LONGITUDE, STATE)**,\n",
    "- cause of the fire **(STAT_CAUSE_DESCR)**"
   ]
  },
  {
   "cell_type": "code",
   "execution_count": 5,
   "metadata": {
    "collapsed": false
   },
   "outputs": [
    {
     "name": "stdout",
     "output_type": "stream",
     "text": [
      "   FIRE_YEAR  DISCOVERY_DATE   LATITUDE   LONGITUDE STATE STAT_CAUSE_DESCR\n",
      "0       2005       2453403.5  40.036944 -121.005833    CA    Miscellaneous\n",
      "1       2004       2453137.5  38.933056 -120.404444    CA        Lightning\n",
      "2       2004       2453156.5  38.984167 -120.735556    CA   Debris Burning\n",
      "3       2004       2453184.5  38.559167 -119.913333    CA        Lightning\n",
      "4       2004       2453184.5  38.559167 -119.933056    CA        Lightning\n"
     ]
    }
   ],
   "source": [
    "sql_data = pd.read_sql_query(\"SELECT FIRE_YEAR, DISCOVERY_DATE, LATITUDE, LONGITUDE, STATE, STAT_CAUSE_DESCR FROM 'Fires'\", sql_db)\n",
    "print(sql_data.head())"
   ]
  },
  {
   "cell_type": "markdown",
   "metadata": {},
   "source": [
    "According to the Kaggle page for this dataset, the DISCOVERY_DATE field is in **Julian Date** format, so we should convert it to **Gregorian Date** format since that is what most people are used to."
   ]
  },
  {
   "cell_type": "code",
   "execution_count": 6,
   "metadata": {
    "collapsed": false
   },
   "outputs": [
    {
     "name": "stdout",
     "output_type": "stream",
     "text": [
      "   DISCOVERY_DATE   LATITUDE   LONGITUDE STATE\n",
      "0       2453403.5  40.036944 -121.005833    CA\n",
      "1       2453137.5  38.933056 -120.404444    CA\n",
      "2       2453156.5  38.984167 -120.735556    CA\n",
      "3       2453184.5  38.559167 -119.913333    CA\n",
      "4       2453184.5  38.559167 -119.933056    CA\n"
     ]
    }
   ],
   "source": [
    "temp_sql_data = pd.read_sql_query(\"SELECT DISCOVERY_DATE, LATITUDE, LONGITUDE, STATE FROM 'Fires'\", sql_db)\n",
    "print(temp_sql_data.head())"
   ]
  },
  {
   "cell_type": "code",
   "execution_count": 7,
   "metadata": {
    "collapsed": false
   },
   "outputs": [
    {
     "name": "stdout",
     "output_type": "stream",
     "text": [
      "   DISCOVERY_DATE   LATITUDE   LONGITUDE STATE       DATE\n",
      "0       2453403.5  40.036944 -121.005833    CA 2005-02-02\n",
      "1       2453137.5  38.933056 -120.404444    CA 2004-05-12\n",
      "2       2453156.5  38.984167 -120.735556    CA 2004-05-31\n",
      "3       2453184.5  38.559167 -119.913333    CA 2004-06-28\n",
      "4       2453184.5  38.559167 -119.933056    CA 2004-06-28\n"
     ]
    }
   ],
   "source": [
    "temp_sql_data['DATE'] = pd.to_datetime(temp_sql_data['DISCOVERY_DATE'] - pd.Timestamp(0).to_julian_date(), unit='D')\n",
    "print(temp_sql_data.head())"
   ]
  },
  {
   "cell_type": "code",
   "execution_count": 8,
   "metadata": {
    "collapsed": false
   },
   "outputs": [
    {
     "data": {
      "text/plain": [
       "Debris Burning       429028\n",
       "Miscellaneous        323805\n",
       "Arson                281455\n",
       "Lightning            278468\n",
       "Missing/Undefined    166723\n",
       "Equipment Use        147612\n",
       "Campfire              76139\n",
       "Children              61167\n",
       "Smoking               52869\n",
       "Railroad              33455\n",
       "Powerline             14448\n",
       "Fireworks             11500\n",
       "Structure              3796\n",
       "Name: STAT_CAUSE_DESCR, dtype: int64"
      ]
     },
     "execution_count": 8,
     "metadata": {},
     "output_type": "execute_result"
    }
   ],
   "source": [
    "sql_data['STAT_CAUSE_DESCR'].value_counts()"
   ]
  },
  {
   "cell_type": "code",
   "execution_count": 9,
   "metadata": {
    "collapsed": false
   },
   "outputs": [
    {
     "data": {
      "image/png": "[encoded data removed]",
      "text/plain": [
       "<matplotlib.figure.Figure at 0x4164b38>"
      ]
     },
     "metadata": {},
     "output_type": "display_data"
    }
   ],
   "source": [
    "sql_data['STAT_CAUSE_DESCR'].value_counts().plot(kind='barh',color='red')\n",
    "plt.show()"
   ]
  },
  {
   "cell_type": "code",
   "execution_count": 10,
   "metadata": {
    "collapsed": false
   },
   "outputs": [],
   "source": [
    "X = sql_data.drop(['STAT_CAUSE_DESCR'], axis=1).values\n",
    "y = sql_data['STAT_CAUSE_DESCR'].values"
   ]
  },
  {
   "cell_type": "code",
   "execution_count": null,
   "metadata": {
    "collapsed": false
   },
   "outputs": [],
   "source": []
  },
  {
   "cell_type": "code",
   "execution_count": null,
   "metadata": {
    "collapsed": true
   },
   "outputs": [],
   "source": []
  },
  {
   "cell_type": "code",
   "execution_count": null,
   "metadata": {
    "collapsed": true
   },
   "outputs": [],
   "source": []
  },
  {
   "cell_type": "code",
   "execution_count": null,
   "metadata": {
    "collapsed": true
   },
   "outputs": [],
   "source": []
  },
  {
   "cell_type": "code",
   "execution_count": null,
   "metadata": {
    "collapsed": true
   },
   "outputs": [],
   "source": []
  },
  {
   "cell_type": "code",
   "execution_count": null,
   "metadata": {
    "collapsed": true
   },
   "outputs": [],
   "source": []
  },
  {
   "cell_type": "code",
   "execution_count": null,
   "metadata": {
    "collapsed": true
   },
   "outputs": [],
   "source": []
  },
  {
   "cell_type": "code",
   "execution_count": null,
   "metadata": {
    "collapsed": true
   },
   "outputs": [],
   "source": []
  },
  {
   "cell_type": "code",
   "execution_count": null,
   "metadata": {
    "collapsed": true
   },
   "outputs": [],
   "source": []
  },
  {
   "cell_type": "code",
   "execution_count": null,
   "metadata": {
    "collapsed": true
   },
   "outputs": [],
   "source": []
  },
  {
   "cell_type": "code",
   "execution_count": null,
   "metadata": {
    "collapsed": true
   },
   "outputs": [],
   "source": []
  },
  {
   "cell_type": "code",
   "execution_count": null,
   "metadata": {
    "collapsed": true
   },
   "outputs": [],
   "source": []
  },
  {
   "cell_type": "code",
   "execution_count": null,
   "metadata": {
    "collapsed": true
   },
   "outputs": [],
   "source": []
  },
  {
   "cell_type": "code",
   "execution_count": null,
   "metadata": {
    "collapsed": true
   },
   "outputs": [],
   "source": []
  },
  {
   "cell_type": "code",
   "execution_count": null,
   "metadata": {
    "collapsed": true
   },
   "outputs": [],
   "source": []
  },
  {
   "cell_type": "code",
   "execution_count": null,
   "metadata": {
    "collapsed": true
   },
   "outputs": [],
   "source": []
  },
  {
   "cell_type": "code",
   "execution_count": null,
   "metadata": {
    "collapsed": true
   },
   "outputs": [],
   "source": []
  },
  {
   "cell_type": "code",
   "execution_count": null,
   "metadata": {
    "collapsed": true
   },
   "outputs": [],
   "source": []
  }
 ],
 "metadata": {
  "kernelspec": {
   "display_name": "Python [conda root]",
   "language": "python",
   "name": "conda-root-py"
  },
  "language_info": {
   "codemirror_mode": {
    "name": "ipython",
    "version": 2
   },
   "file_extension": ".py",
   "mimetype": "text/x-python",
   "name": "python",
   "nbconvert_exporter": "python",
   "pygments_lexer": "ipython2",
   "version": "2.7.12"
  }
 },
 "nbformat": 4,
 "nbformat_minor": 2
}
